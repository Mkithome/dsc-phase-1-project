{
 "cells": [
  {
   "cell_type": "markdown",
   "metadata": {},
   "source": [
    "# Final Project Submission\n",
    "\n",
    "Please fill out:\n",
    "* Student name: Martin Kithome\n",
    "* Student pace: part time\n",
    "* Scheduled project review date/time: \n",
    "* Instructor name: \n",
    "* Blog post URL:\n"
   ]
  },
  {
   "cell_type": "markdown",
   "metadata": {},
   "source": [
    "# PROJECT"
   ]
  },
  {
   "cell_type": "markdown",
   "metadata": {},
   "source": [
    "For this project, I will be  using exploratory data analysis to generate insights for a business stakeholder.\n"
   ]
  },
  {
   "cell_type": "markdown",
   "metadata": {},
   "source": [
    "# Introduction:"
   ]
  },
  {
   "cell_type": "markdown",
   "metadata": {},
   "source": [
    "Microsoft sees all the big companies creating original video content and they want to get in on the fun. They have decided to create a new movie studio, but they don’t know anything about creating movies. From the zipped data, I shall be using these three data sets to visualize,analyze,give a recommendation and make a conclusion on behalf of the  stakeholder.\n",
    "\n",
    "\n",
    "1.imdb.title.basics\n",
    "2.imdb.title.ratings\n",
    "3.bom.movie_gross"
   ]
  },
  {
   "cell_type": "markdown",
   "metadata": {},
   "source": [
    "# Objectives:"
   ]
  },
  {
   "cell_type": "markdown",
   "metadata": {},
   "source": [
    "1.Identify the most frequent genres in the dataset.\n",
    "\n",
    "2.Investigate the most rated and voted genres.\n",
    "\n",
    "3.Identify general trends of revenue generation over years.\n",
    "\n",
    "4.Discover top competitors in the market."
   ]
  },
  {
   "cell_type": "code",
   "execution_count": 106,
   "metadata": {},
   "outputs": [],
   "source": [
    "# Your code here - remember to use markdown cells for comments as well!\n",
    "import pandas as pd\n",
    "import numpy as np\n",
    "import csv\n",
    "import matplotlib.pyplot as plt\n",
    "import seaborn as sns\n",
    "%matplotlib inline"
   ]
  },
  {
   "cell_type": "code",
   "execution_count": 107,
   "metadata": {},
   "outputs": [
    {
     "data": {
      "text/html": [
       "<div>\n",
       "<style scoped>\n",
       "    .dataframe tbody tr th:only-of-type {\n",
       "        vertical-align: middle;\n",
       "    }\n",
       "\n",
       "    .dataframe tbody tr th {\n",
       "        vertical-align: top;\n",
       "    }\n",
       "\n",
       "    .dataframe thead th {\n",
       "        text-align: right;\n",
       "    }\n",
       "</style>\n",
       "<table border=\"1\" class=\"dataframe\">\n",
       "  <thead>\n",
       "    <tr style=\"text-align: right;\">\n",
       "      <th></th>\n",
       "      <th>tconst</th>\n",
       "      <th>primary_title</th>\n",
       "      <th>original_title</th>\n",
       "      <th>start_year</th>\n",
       "      <th>runtime_minutes</th>\n",
       "      <th>genres</th>\n",
       "    </tr>\n",
       "  </thead>\n",
       "  <tbody>\n",
       "    <tr>\n",
       "      <th>0</th>\n",
       "      <td>tt0063540</td>\n",
       "      <td>Sunghursh</td>\n",
       "      <td>Sunghursh</td>\n",
       "      <td>2013</td>\n",
       "      <td>175.0</td>\n",
       "      <td>Action,Crime,Drama</td>\n",
       "    </tr>\n",
       "    <tr>\n",
       "      <th>1</th>\n",
       "      <td>tt0066787</td>\n",
       "      <td>One Day Before the Rainy Season</td>\n",
       "      <td>Ashad Ka Ek Din</td>\n",
       "      <td>2019</td>\n",
       "      <td>114.0</td>\n",
       "      <td>Biography,Drama</td>\n",
       "    </tr>\n",
       "    <tr>\n",
       "      <th>2</th>\n",
       "      <td>tt0069049</td>\n",
       "      <td>The Other Side of the Wind</td>\n",
       "      <td>The Other Side of the Wind</td>\n",
       "      <td>2018</td>\n",
       "      <td>122.0</td>\n",
       "      <td>Drama</td>\n",
       "    </tr>\n",
       "    <tr>\n",
       "      <th>3</th>\n",
       "      <td>tt0069204</td>\n",
       "      <td>Sabse Bada Sukh</td>\n",
       "      <td>Sabse Bada Sukh</td>\n",
       "      <td>2018</td>\n",
       "      <td>NaN</td>\n",
       "      <td>Comedy,Drama</td>\n",
       "    </tr>\n",
       "    <tr>\n",
       "      <th>4</th>\n",
       "      <td>tt0100275</td>\n",
       "      <td>The Wandering Soap Opera</td>\n",
       "      <td>La Telenovela Errante</td>\n",
       "      <td>2017</td>\n",
       "      <td>80.0</td>\n",
       "      <td>Comedy,Drama,Fantasy</td>\n",
       "    </tr>\n",
       "  </tbody>\n",
       "</table>\n",
       "</div>"
      ],
      "text/plain": [
       "      tconst                    primary_title              original_title  \\\n",
       "0  tt0063540                        Sunghursh                   Sunghursh   \n",
       "1  tt0066787  One Day Before the Rainy Season             Ashad Ka Ek Din   \n",
       "2  tt0069049       The Other Side of the Wind  The Other Side of the Wind   \n",
       "3  tt0069204                  Sabse Bada Sukh             Sabse Bada Sukh   \n",
       "4  tt0100275         The Wandering Soap Opera       La Telenovela Errante   \n",
       "\n",
       "   start_year  runtime_minutes                genres  \n",
       "0        2013            175.0    Action,Crime,Drama  \n",
       "1        2019            114.0       Biography,Drama  \n",
       "2        2018            122.0                 Drama  \n",
       "3        2018              NaN          Comedy,Drama  \n",
       "4        2017             80.0  Comedy,Drama,Fantasy  "
      ]
     },
     "execution_count": 107,
     "metadata": {},
     "output_type": "execute_result"
    }
   ],
   "source": [
    "#import title.basics\n",
    "basics_df = pd.read_csv('title.basics.csv')\n",
    "basics_df.head()"
   ]
  },
  {
   "cell_type": "code",
   "execution_count": 9,
   "metadata": {},
   "outputs": [
    {
     "data": {
      "text/html": [
       "<div>\n",
       "<style scoped>\n",
       "    .dataframe tbody tr th:only-of-type {\n",
       "        vertical-align: middle;\n",
       "    }\n",
       "\n",
       "    .dataframe tbody tr th {\n",
       "        vertical-align: top;\n",
       "    }\n",
       "\n",
       "    .dataframe thead th {\n",
       "        text-align: right;\n",
       "    }\n",
       "</style>\n",
       "<table border=\"1\" class=\"dataframe\">\n",
       "  <thead>\n",
       "    <tr style=\"text-align: right;\">\n",
       "      <th></th>\n",
       "      <th>tconst</th>\n",
       "      <th>averagerating</th>\n",
       "      <th>numvotes</th>\n",
       "    </tr>\n",
       "  </thead>\n",
       "  <tbody>\n",
       "    <tr>\n",
       "      <th>0</th>\n",
       "      <td>tt10356526</td>\n",
       "      <td>8.3</td>\n",
       "      <td>31</td>\n",
       "    </tr>\n",
       "    <tr>\n",
       "      <th>1</th>\n",
       "      <td>tt10384606</td>\n",
       "      <td>8.9</td>\n",
       "      <td>559</td>\n",
       "    </tr>\n",
       "    <tr>\n",
       "      <th>2</th>\n",
       "      <td>tt1042974</td>\n",
       "      <td>6.4</td>\n",
       "      <td>20</td>\n",
       "    </tr>\n",
       "    <tr>\n",
       "      <th>3</th>\n",
       "      <td>tt1043726</td>\n",
       "      <td>4.2</td>\n",
       "      <td>50352</td>\n",
       "    </tr>\n",
       "    <tr>\n",
       "      <th>4</th>\n",
       "      <td>tt1060240</td>\n",
       "      <td>6.5</td>\n",
       "      <td>21</td>\n",
       "    </tr>\n",
       "  </tbody>\n",
       "</table>\n",
       "</div>"
      ],
      "text/plain": [
       "       tconst  averagerating  numvotes\n",
       "0  tt10356526            8.3        31\n",
       "1  tt10384606            8.9       559\n",
       "2   tt1042974            6.4        20\n",
       "3   tt1043726            4.2     50352\n",
       "4   tt1060240            6.5        21"
      ]
     },
     "execution_count": 9,
     "metadata": {},
     "output_type": "execute_result"
    }
   ],
   "source": [
    "# import title.ratings\n",
    "ratings_df = pd.read_csv('title.ratings.csv')\n",
    "ratings_df.head()"
   ]
  },
  {
   "cell_type": "code",
   "execution_count": 10,
   "metadata": {},
   "outputs": [
    {
     "data": {
      "text/html": [
       "<div>\n",
       "<style scoped>\n",
       "    .dataframe tbody tr th:only-of-type {\n",
       "        vertical-align: middle;\n",
       "    }\n",
       "\n",
       "    .dataframe tbody tr th {\n",
       "        vertical-align: top;\n",
       "    }\n",
       "\n",
       "    .dataframe thead th {\n",
       "        text-align: right;\n",
       "    }\n",
       "</style>\n",
       "<table border=\"1\" class=\"dataframe\">\n",
       "  <thead>\n",
       "    <tr style=\"text-align: right;\">\n",
       "      <th></th>\n",
       "      <th>title</th>\n",
       "      <th>studio</th>\n",
       "      <th>domestic_gross</th>\n",
       "      <th>foreign_gross</th>\n",
       "      <th>year</th>\n",
       "    </tr>\n",
       "  </thead>\n",
       "  <tbody>\n",
       "    <tr>\n",
       "      <th>0</th>\n",
       "      <td>Toy Story 3</td>\n",
       "      <td>BV</td>\n",
       "      <td>415000000.0</td>\n",
       "      <td>652000000</td>\n",
       "      <td>2010</td>\n",
       "    </tr>\n",
       "    <tr>\n",
       "      <th>1</th>\n",
       "      <td>Alice in Wonderland (2010)</td>\n",
       "      <td>BV</td>\n",
       "      <td>334200000.0</td>\n",
       "      <td>691300000</td>\n",
       "      <td>2010</td>\n",
       "    </tr>\n",
       "    <tr>\n",
       "      <th>2</th>\n",
       "      <td>Harry Potter and the Deathly Hallows Part 1</td>\n",
       "      <td>WB</td>\n",
       "      <td>296000000.0</td>\n",
       "      <td>664300000</td>\n",
       "      <td>2010</td>\n",
       "    </tr>\n",
       "    <tr>\n",
       "      <th>3</th>\n",
       "      <td>Inception</td>\n",
       "      <td>WB</td>\n",
       "      <td>292600000.0</td>\n",
       "      <td>535700000</td>\n",
       "      <td>2010</td>\n",
       "    </tr>\n",
       "    <tr>\n",
       "      <th>4</th>\n",
       "      <td>Shrek Forever After</td>\n",
       "      <td>P/DW</td>\n",
       "      <td>238700000.0</td>\n",
       "      <td>513900000</td>\n",
       "      <td>2010</td>\n",
       "    </tr>\n",
       "  </tbody>\n",
       "</table>\n",
       "</div>"
      ],
      "text/plain": [
       "                                         title studio  domestic_gross  \\\n",
       "0                                  Toy Story 3     BV     415000000.0   \n",
       "1                   Alice in Wonderland (2010)     BV     334200000.0   \n",
       "2  Harry Potter and the Deathly Hallows Part 1     WB     296000000.0   \n",
       "3                                    Inception     WB     292600000.0   \n",
       "4                          Shrek Forever After   P/DW     238700000.0   \n",
       "\n",
       "  foreign_gross  year  \n",
       "0     652000000  2010  \n",
       "1     691300000  2010  \n",
       "2     664300000  2010  \n",
       "3     535700000  2010  \n",
       "4     513900000  2010  "
      ]
     },
     "execution_count": 10,
     "metadata": {},
     "output_type": "execute_result"
    }
   ],
   "source": [
    "#import movie_gross\n",
    "gross_df = pd.read_csv('bom.movie_gross.csv')\n",
    "gross_df.head()"
   ]
  },
  {
   "cell_type": "code",
   "execution_count": 15,
   "metadata": {},
   "outputs": [
    {
     "data": {
      "text/html": [
       "<div>\n",
       "<style scoped>\n",
       "    .dataframe tbody tr th:only-of-type {\n",
       "        vertical-align: middle;\n",
       "    }\n",
       "\n",
       "    .dataframe tbody tr th {\n",
       "        vertical-align: top;\n",
       "    }\n",
       "\n",
       "    .dataframe thead th {\n",
       "        text-align: right;\n",
       "    }\n",
       "</style>\n",
       "<table border=\"1\" class=\"dataframe\">\n",
       "  <thead>\n",
       "    <tr style=\"text-align: right;\">\n",
       "      <th></th>\n",
       "      <th>tconst</th>\n",
       "      <th>averagerating</th>\n",
       "      <th>numvotes</th>\n",
       "      <th>primary_title</th>\n",
       "      <th>original_title</th>\n",
       "      <th>start_year</th>\n",
       "      <th>runtime_minutes</th>\n",
       "      <th>genres</th>\n",
       "    </tr>\n",
       "  </thead>\n",
       "  <tbody>\n",
       "    <tr>\n",
       "      <th>0</th>\n",
       "      <td>tt10356526</td>\n",
       "      <td>8.3</td>\n",
       "      <td>31</td>\n",
       "      <td>Laiye Je Yaarian</td>\n",
       "      <td>Laiye Je Yaarian</td>\n",
       "      <td>2019</td>\n",
       "      <td>117.0</td>\n",
       "      <td>Romance</td>\n",
       "    </tr>\n",
       "    <tr>\n",
       "      <th>1</th>\n",
       "      <td>tt10384606</td>\n",
       "      <td>8.9</td>\n",
       "      <td>559</td>\n",
       "      <td>Borderless</td>\n",
       "      <td>Borderless</td>\n",
       "      <td>2019</td>\n",
       "      <td>87.0</td>\n",
       "      <td>Documentary</td>\n",
       "    </tr>\n",
       "    <tr>\n",
       "      <th>2</th>\n",
       "      <td>tt1042974</td>\n",
       "      <td>6.4</td>\n",
       "      <td>20</td>\n",
       "      <td>Just Inès</td>\n",
       "      <td>Just Inès</td>\n",
       "      <td>2010</td>\n",
       "      <td>90.0</td>\n",
       "      <td>Drama</td>\n",
       "    </tr>\n",
       "    <tr>\n",
       "      <th>3</th>\n",
       "      <td>tt1043726</td>\n",
       "      <td>4.2</td>\n",
       "      <td>50352</td>\n",
       "      <td>The Legend of Hercules</td>\n",
       "      <td>The Legend of Hercules</td>\n",
       "      <td>2014</td>\n",
       "      <td>99.0</td>\n",
       "      <td>Action,Adventure,Fantasy</td>\n",
       "    </tr>\n",
       "    <tr>\n",
       "      <th>4</th>\n",
       "      <td>tt1060240</td>\n",
       "      <td>6.5</td>\n",
       "      <td>21</td>\n",
       "      <td>Até Onde?</td>\n",
       "      <td>Até Onde?</td>\n",
       "      <td>2011</td>\n",
       "      <td>73.0</td>\n",
       "      <td>Mystery,Thriller</td>\n",
       "    </tr>\n",
       "  </tbody>\n",
       "</table>\n",
       "</div>"
      ],
      "text/plain": [
       "       tconst  averagerating  numvotes           primary_title  \\\n",
       "0  tt10356526            8.3        31        Laiye Je Yaarian   \n",
       "1  tt10384606            8.9       559              Borderless   \n",
       "2   tt1042974            6.4        20               Just Inès   \n",
       "3   tt1043726            4.2     50352  The Legend of Hercules   \n",
       "4   tt1060240            6.5        21               Até Onde?   \n",
       "\n",
       "           original_title  start_year  runtime_minutes  \\\n",
       "0        Laiye Je Yaarian        2019            117.0   \n",
       "1              Borderless        2019             87.0   \n",
       "2               Just Inès        2010             90.0   \n",
       "3  The Legend of Hercules        2014             99.0   \n",
       "4               Até Onde?        2011             73.0   \n",
       "\n",
       "                     genres  \n",
       "0                   Romance  \n",
       "1               Documentary  \n",
       "2                     Drama  \n",
       "3  Action,Adventure,Fantasy  \n",
       "4          Mystery,Thriller  "
      ]
     },
     "execution_count": 15,
     "metadata": {},
     "output_type": "execute_result"
    }
   ],
   "source": [
    "# Joining title.ratings and title.basics datasets on the \"tconst\" column\n",
    "ratings_basics_df = pd.merge(ratings_df, basics_df, on='tconst')\n",
    "ratings_basics_df.head()"
   ]
  },
  {
   "cell_type": "code",
   "execution_count": 12,
   "metadata": {},
   "outputs": [
    {
     "data": {
      "text/html": [
       "<div>\n",
       "<style scoped>\n",
       "    .dataframe tbody tr th:only-of-type {\n",
       "        vertical-align: middle;\n",
       "    }\n",
       "\n",
       "    .dataframe tbody tr th {\n",
       "        vertical-align: top;\n",
       "    }\n",
       "\n",
       "    .dataframe thead th {\n",
       "        text-align: right;\n",
       "    }\n",
       "</style>\n",
       "<table border=\"1\" class=\"dataframe\">\n",
       "  <thead>\n",
       "    <tr style=\"text-align: right;\">\n",
       "      <th></th>\n",
       "      <th>tconst</th>\n",
       "      <th>averagerating</th>\n",
       "      <th>numvotes</th>\n",
       "      <th>primary_title</th>\n",
       "      <th>original_title</th>\n",
       "      <th>start_year</th>\n",
       "      <th>runtime_minutes</th>\n",
       "      <th>genres</th>\n",
       "      <th>title</th>\n",
       "      <th>studio</th>\n",
       "      <th>domestic_gross</th>\n",
       "      <th>foreign_gross</th>\n",
       "      <th>year</th>\n",
       "    </tr>\n",
       "  </thead>\n",
       "  <tbody>\n",
       "    <tr>\n",
       "      <th>0</th>\n",
       "      <td>tt1043726</td>\n",
       "      <td>4.2</td>\n",
       "      <td>50352</td>\n",
       "      <td>The Legend of Hercules</td>\n",
       "      <td>The Legend of Hercules</td>\n",
       "      <td>2014</td>\n",
       "      <td>99.0</td>\n",
       "      <td>Action,Adventure,Fantasy</td>\n",
       "      <td>The Legend of Hercules</td>\n",
       "      <td>LG/S</td>\n",
       "      <td>18800000.0</td>\n",
       "      <td>42400000</td>\n",
       "      <td>2014</td>\n",
       "    </tr>\n",
       "    <tr>\n",
       "      <th>1</th>\n",
       "      <td>tt1171222</td>\n",
       "      <td>5.1</td>\n",
       "      <td>8296</td>\n",
       "      <td>Baggage Claim</td>\n",
       "      <td>Baggage Claim</td>\n",
       "      <td>2013</td>\n",
       "      <td>96.0</td>\n",
       "      <td>Comedy</td>\n",
       "      <td>Baggage Claim</td>\n",
       "      <td>FoxS</td>\n",
       "      <td>21600000.0</td>\n",
       "      <td>887000</td>\n",
       "      <td>2013</td>\n",
       "    </tr>\n",
       "    <tr>\n",
       "      <th>2</th>\n",
       "      <td>tt1181840</td>\n",
       "      <td>7.0</td>\n",
       "      <td>5494</td>\n",
       "      <td>Jack and the Cuckoo-Clock Heart</td>\n",
       "      <td>Jack et la mécanique du coeur</td>\n",
       "      <td>2013</td>\n",
       "      <td>94.0</td>\n",
       "      <td>Adventure,Animation,Drama</td>\n",
       "      <td>Jack and the Cuckoo-Clock Heart</td>\n",
       "      <td>Shout!</td>\n",
       "      <td>NaN</td>\n",
       "      <td>3400000</td>\n",
       "      <td>2014</td>\n",
       "    </tr>\n",
       "    <tr>\n",
       "      <th>3</th>\n",
       "      <td>tt1210166</td>\n",
       "      <td>7.6</td>\n",
       "      <td>326657</td>\n",
       "      <td>Moneyball</td>\n",
       "      <td>Moneyball</td>\n",
       "      <td>2011</td>\n",
       "      <td>133.0</td>\n",
       "      <td>Biography,Drama,Sport</td>\n",
       "      <td>Moneyball</td>\n",
       "      <td>Sony</td>\n",
       "      <td>75600000.0</td>\n",
       "      <td>34600000</td>\n",
       "      <td>2011</td>\n",
       "    </tr>\n",
       "    <tr>\n",
       "      <th>4</th>\n",
       "      <td>tt1212419</td>\n",
       "      <td>6.5</td>\n",
       "      <td>87288</td>\n",
       "      <td>Hereafter</td>\n",
       "      <td>Hereafter</td>\n",
       "      <td>2010</td>\n",
       "      <td>129.0</td>\n",
       "      <td>Drama,Fantasy,Romance</td>\n",
       "      <td>Hereafter</td>\n",
       "      <td>WB</td>\n",
       "      <td>32700000.0</td>\n",
       "      <td>72500000</td>\n",
       "      <td>2010</td>\n",
       "    </tr>\n",
       "  </tbody>\n",
       "</table>\n",
       "</div>"
      ],
      "text/plain": [
       "      tconst  averagerating  numvotes                    primary_title  \\\n",
       "0  tt1043726            4.2     50352           The Legend of Hercules   \n",
       "1  tt1171222            5.1      8296                    Baggage Claim   \n",
       "2  tt1181840            7.0      5494  Jack and the Cuckoo-Clock Heart   \n",
       "3  tt1210166            7.6    326657                        Moneyball   \n",
       "4  tt1212419            6.5     87288                        Hereafter   \n",
       "\n",
       "                  original_title  start_year  runtime_minutes  \\\n",
       "0         The Legend of Hercules        2014             99.0   \n",
       "1                  Baggage Claim        2013             96.0   \n",
       "2  Jack et la mécanique du coeur        2013             94.0   \n",
       "3                      Moneyball        2011            133.0   \n",
       "4                      Hereafter        2010            129.0   \n",
       "\n",
       "                      genres                            title  studio  \\\n",
       "0   Action,Adventure,Fantasy           The Legend of Hercules    LG/S   \n",
       "1                     Comedy                    Baggage Claim    FoxS   \n",
       "2  Adventure,Animation,Drama  Jack and the Cuckoo-Clock Heart  Shout!   \n",
       "3      Biography,Drama,Sport                        Moneyball    Sony   \n",
       "4      Drama,Fantasy,Romance                        Hereafter      WB   \n",
       "\n",
       "   domestic_gross foreign_gross  year  \n",
       "0      18800000.0      42400000  2014  \n",
       "1      21600000.0        887000  2013  \n",
       "2             NaN       3400000  2014  \n",
       "3      75600000.0      34600000  2011  \n",
       "4      32700000.0      72500000  2010  "
      ]
     },
     "execution_count": 12,
     "metadata": {},
     "output_type": "execute_result"
    }
   ],
   "source": [
    "# Join the resulting dataset with the bom.movie_gross.csv dataset on the \"title\" column\n",
    "df = pd.merge(ratings_basics_df, gross_df, left_on='primary_title', right_on='title')\n",
    "df.head()"
   ]
  },
  {
   "cell_type": "code",
   "execution_count": 16,
   "metadata": {},
   "outputs": [
    {
     "name": "stdout",
     "output_type": "stream",
     "text": [
      "<class 'pandas.core.frame.DataFrame'>\n",
      "Int64Index: 3027 entries, 0 to 3026\n",
      "Data columns (total 13 columns):\n",
      " #   Column           Non-Null Count  Dtype  \n",
      "---  ------           --------------  -----  \n",
      " 0   tconst           3027 non-null   object \n",
      " 1   averagerating    3027 non-null   float64\n",
      " 2   numvotes         3027 non-null   int64  \n",
      " 3   primary_title    3027 non-null   object \n",
      " 4   original_title   3027 non-null   object \n",
      " 5   start_year       3027 non-null   int64  \n",
      " 6   runtime_minutes  2980 non-null   float64\n",
      " 7   genres           3020 non-null   object \n",
      " 8   title            3027 non-null   object \n",
      " 9   studio           3024 non-null   object \n",
      " 10  domestic_gross   3005 non-null   float64\n",
      " 11  foreign_gross    1832 non-null   object \n",
      " 12  year             3027 non-null   int64  \n",
      "dtypes: float64(3), int64(3), object(7)\n",
      "memory usage: 331.1+ KB\n"
     ]
    }
   ],
   "source": [
    "df.info()"
   ]
  },
  {
   "cell_type": "markdown",
   "metadata": {},
   "source": [
    "# Data Cleaning:"
   ]
  },
  {
   "cell_type": "markdown",
   "metadata": {},
   "source": [
    "Cleaning, scrubbing and handling missing values.\n",
    "Dropping duplicated columns and handling missing values."
   ]
  },
  {
   "cell_type": "code",
   "execution_count": 18,
   "metadata": {},
   "outputs": [],
   "source": [
    "# dropping duplicated columns\n",
    "df.drop(columns = ['original_title', 'title','year','tconst'], axis = 1, inplace=True)"
   ]
  },
  {
   "cell_type": "code",
   "execution_count": 19,
   "metadata": {},
   "outputs": [
    {
     "name": "stdout",
     "output_type": "stream",
     "text": [
      "<class 'pandas.core.frame.DataFrame'>\n",
      "Int64Index: 3027 entries, 0 to 3026\n",
      "Data columns (total 9 columns):\n",
      " #   Column           Non-Null Count  Dtype  \n",
      "---  ------           --------------  -----  \n",
      " 0   averagerating    3027 non-null   float64\n",
      " 1   numvotes         3027 non-null   int64  \n",
      " 2   primary_title    3027 non-null   object \n",
      " 3   start_year       3027 non-null   int64  \n",
      " 4   runtime_minutes  2980 non-null   float64\n",
      " 5   genres           3020 non-null   object \n",
      " 6   studio           3024 non-null   object \n",
      " 7   domestic_gross   3005 non-null   float64\n",
      " 8   foreign_gross    1832 non-null   object \n",
      "dtypes: float64(3), int64(2), object(4)\n",
      "memory usage: 236.5+ KB\n"
     ]
    }
   ],
   "source": [
    "df.info()"
   ]
  },
  {
   "cell_type": "markdown",
   "metadata": {},
   "source": [
    "# Missing Values:"
   ]
  },
  {
   "cell_type": "markdown",
   "metadata": {},
   "source": [
    "For the null values, we can either drop them or impute them with mean, median, or using special identifiers."
   ]
  },
  {
   "cell_type": "code",
   "execution_count": 20,
   "metadata": {},
   "outputs": [
    {
     "data": {
      "text/plain": [
       "averagerating         0\n",
       "numvotes              0\n",
       "primary_title         0\n",
       "start_year            0\n",
       "runtime_minutes      47\n",
       "genres                7\n",
       "studio                3\n",
       "domestic_gross       22\n",
       "foreign_gross      1195\n",
       "dtype: int64"
      ]
     },
     "execution_count": 20,
     "metadata": {},
     "output_type": "execute_result"
    }
   ],
   "source": [
    "# checking for missing values. \n",
    "df.isna().sum()"
   ]
  },
  {
   "cell_type": "code",
   "execution_count": 22,
   "metadata": {},
   "outputs": [
    {
     "data": {
      "text/html": [
       "<div>\n",
       "<style scoped>\n",
       "    .dataframe tbody tr th:only-of-type {\n",
       "        vertical-align: middle;\n",
       "    }\n",
       "\n",
       "    .dataframe tbody tr th {\n",
       "        vertical-align: top;\n",
       "    }\n",
       "\n",
       "    .dataframe thead th {\n",
       "        text-align: right;\n",
       "    }\n",
       "</style>\n",
       "<table border=\"1\" class=\"dataframe\">\n",
       "  <thead>\n",
       "    <tr style=\"text-align: right;\">\n",
       "      <th></th>\n",
       "      <th>Missing Values</th>\n",
       "      <th>Percentage(%)</th>\n",
       "    </tr>\n",
       "  </thead>\n",
       "  <tbody>\n",
       "    <tr>\n",
       "      <th>foreign_gross</th>\n",
       "      <td>1195</td>\n",
       "      <td>0.394780</td>\n",
       "    </tr>\n",
       "    <tr>\n",
       "      <th>runtime_minutes</th>\n",
       "      <td>47</td>\n",
       "      <td>0.015527</td>\n",
       "    </tr>\n",
       "    <tr>\n",
       "      <th>domestic_gross</th>\n",
       "      <td>22</td>\n",
       "      <td>0.007268</td>\n",
       "    </tr>\n",
       "    <tr>\n",
       "      <th>genres</th>\n",
       "      <td>7</td>\n",
       "      <td>0.002313</td>\n",
       "    </tr>\n",
       "    <tr>\n",
       "      <th>studio</th>\n",
       "      <td>3</td>\n",
       "      <td>0.000991</td>\n",
       "    </tr>\n",
       "  </tbody>\n",
       "</table>\n",
       "</div>"
      ],
      "text/plain": [
       "                 Missing Values  Percentage(%)\n",
       "foreign_gross              1195       0.394780\n",
       "runtime_minutes              47       0.015527\n",
       "domestic_gross               22       0.007268\n",
       "genres                        7       0.002313\n",
       "studio                        3       0.000991"
      ]
     },
     "execution_count": 22,
     "metadata": {},
     "output_type": "execute_result"
    }
   ],
   "source": [
    "def missing_values(data):\n",
    "     # identify the total missing values per column\n",
    "    miss = data.isnull().sum().sort_values(ascending = False)\n",
    "     # calculate percentage of the missing values\n",
    "    percentage_miss = (data.isnull().sum() / len(data)).sort_values(ascending = False)\n",
    "    # store in a dataframe \n",
    "    missing = pd.DataFrame({\"Missing Values\": miss, \"Percentage(%)\": percentage_miss})\n",
    "     # remove values that are missing \n",
    "    missing.drop(missing[missing[\"Percentage(%)\"] == 0].index, inplace = True)\n",
    "\n",
    "    return missing\n",
    "\n",
    "\n",
    "missing_data = missing_values(df)\n",
    "missing_data"
   ]
  },
  {
   "cell_type": "markdown",
   "metadata": {},
   "source": [
    "Based on the output, the variables \"genre,\" \"studio,\" and \"runtime in minutes\" have very few missing values, and removing them from the dataset is unlikely to significantly impact our model's performance. Filling in these missing values may not be the most appropriate approach, as each movie typically has a unique title and runtime.\n",
    "\n",
    "On the other hand, the \"domestic gross\" and \"foreign gross\" columns are highly dependent on the studio to which a movie belongs. Certain studios may have a substantial impact on the gross revenue, both domestically and internationally, compared to others. Therefore, removing the missing values in these columns is a reasonable approach to avoid introducing bias into our analysis. By doing so, we ensure that the revenue estimates are not influenced by inaccurate or imputed values, which could lead to skewed results.\n",
    "\n",
    "Overall, the decision to drop the missing values for the \"domestic gross\" and \"foreign gross\" columns is justifiable, as it helps maintain the integrity of the data and avoids potential bias in the analysis."
   ]
  },
  {
   "cell_type": "code",
   "execution_count": 25,
   "metadata": {},
   "outputs": [],
   "source": [
    "#dropping rows with null values\n",
    "df.dropna(axis=0, inplace=True)"
   ]
  },
  {
   "cell_type": "code",
   "execution_count": 26,
   "metadata": {},
   "outputs": [
    {
     "data": {
      "text/plain": [
       "averagerating      0\n",
       "numvotes           0\n",
       "primary_title      0\n",
       "start_year         0\n",
       "runtime_minutes    0\n",
       "genres             0\n",
       "studio             0\n",
       "domestic_gross     0\n",
       "foreign_gross      0\n",
       "dtype: int64"
      ]
     },
     "execution_count": 26,
     "metadata": {},
     "output_type": "execute_result"
    }
   ],
   "source": [
    "df.isna().sum()"
   ]
  },
  {
   "cell_type": "code",
   "execution_count": 27,
   "metadata": {},
   "outputs": [
    {
     "data": {
      "text/plain": [
       "0     42400000.0\n",
       "1       887000.0\n",
       "3     34600000.0\n",
       "4     72500000.0\n",
       "5    485300000.0\n",
       "Name: foreign_gross, dtype: float64"
      ]
     },
     "execution_count": 27,
     "metadata": {},
     "output_type": "execute_result"
    }
   ],
   "source": [
    "# foreign_gross to float\n",
    "df[\"foreign_gross\"] = df[\"foreign_gross\"].str.replace(',' ,'').astype(float)\n",
    "df[\"foreign_gross\"].head()"
   ]
  },
  {
   "cell_type": "code",
   "execution_count": 28,
   "metadata": {},
   "outputs": [
    {
     "data": {
      "text/html": [
       "<div>\n",
       "<style scoped>\n",
       "    .dataframe tbody tr th:only-of-type {\n",
       "        vertical-align: middle;\n",
       "    }\n",
       "\n",
       "    .dataframe tbody tr th {\n",
       "        vertical-align: top;\n",
       "    }\n",
       "\n",
       "    .dataframe thead th {\n",
       "        text-align: right;\n",
       "    }\n",
       "</style>\n",
       "<table border=\"1\" class=\"dataframe\">\n",
       "  <thead>\n",
       "    <tr style=\"text-align: right;\">\n",
       "      <th></th>\n",
       "      <th>averagerating</th>\n",
       "      <th>numvotes</th>\n",
       "      <th>primary_title</th>\n",
       "      <th>start_year</th>\n",
       "      <th>runtime_minutes</th>\n",
       "      <th>genres</th>\n",
       "      <th>studio</th>\n",
       "      <th>domestic_gross</th>\n",
       "      <th>foreign_gross</th>\n",
       "    </tr>\n",
       "  </thead>\n",
       "  <tbody>\n",
       "    <tr>\n",
       "      <th>0</th>\n",
       "      <td>4.2</td>\n",
       "      <td>50352</td>\n",
       "      <td>The Legend of Hercules</td>\n",
       "      <td>2014</td>\n",
       "      <td>99.0</td>\n",
       "      <td>Action,Adventure,Fantasy</td>\n",
       "      <td>LG/S</td>\n",
       "      <td>18800000.0</td>\n",
       "      <td>42400000.0</td>\n",
       "    </tr>\n",
       "    <tr>\n",
       "      <th>1</th>\n",
       "      <td>5.1</td>\n",
       "      <td>8296</td>\n",
       "      <td>Baggage Claim</td>\n",
       "      <td>2013</td>\n",
       "      <td>96.0</td>\n",
       "      <td>Comedy</td>\n",
       "      <td>FoxS</td>\n",
       "      <td>21600000.0</td>\n",
       "      <td>887000.0</td>\n",
       "    </tr>\n",
       "    <tr>\n",
       "      <th>3</th>\n",
       "      <td>7.6</td>\n",
       "      <td>326657</td>\n",
       "      <td>Moneyball</td>\n",
       "      <td>2011</td>\n",
       "      <td>133.0</td>\n",
       "      <td>Biography,Drama,Sport</td>\n",
       "      <td>Sony</td>\n",
       "      <td>75600000.0</td>\n",
       "      <td>34600000.0</td>\n",
       "    </tr>\n",
       "    <tr>\n",
       "      <th>4</th>\n",
       "      <td>6.5</td>\n",
       "      <td>87288</td>\n",
       "      <td>Hereafter</td>\n",
       "      <td>2010</td>\n",
       "      <td>129.0</td>\n",
       "      <td>Drama,Fantasy,Romance</td>\n",
       "      <td>WB</td>\n",
       "      <td>32700000.0</td>\n",
       "      <td>72500000.0</td>\n",
       "    </tr>\n",
       "    <tr>\n",
       "      <th>5</th>\n",
       "      <td>7.4</td>\n",
       "      <td>428142</td>\n",
       "      <td>Mission: Impossible - Ghost Protocol</td>\n",
       "      <td>2011</td>\n",
       "      <td>132.0</td>\n",
       "      <td>Action,Adventure,Thriller</td>\n",
       "      <td>Par.</td>\n",
       "      <td>209400000.0</td>\n",
       "      <td>485300000.0</td>\n",
       "    </tr>\n",
       "  </tbody>\n",
       "</table>\n",
       "</div>"
      ],
      "text/plain": [
       "   averagerating  numvotes                         primary_title  start_year  \\\n",
       "0            4.2     50352                The Legend of Hercules        2014   \n",
       "1            5.1      8296                         Baggage Claim        2013   \n",
       "3            7.6    326657                             Moneyball        2011   \n",
       "4            6.5     87288                             Hereafter        2010   \n",
       "5            7.4    428142  Mission: Impossible - Ghost Protocol        2011   \n",
       "\n",
       "   runtime_minutes                     genres studio  domestic_gross  \\\n",
       "0             99.0   Action,Adventure,Fantasy   LG/S      18800000.0   \n",
       "1             96.0                     Comedy   FoxS      21600000.0   \n",
       "3            133.0      Biography,Drama,Sport   Sony      75600000.0   \n",
       "4            129.0      Drama,Fantasy,Romance     WB      32700000.0   \n",
       "5            132.0  Action,Adventure,Thriller   Par.     209400000.0   \n",
       "\n",
       "   foreign_gross  \n",
       "0     42400000.0  \n",
       "1       887000.0  \n",
       "3     34600000.0  \n",
       "4     72500000.0  \n",
       "5    485300000.0  "
      ]
     },
     "execution_count": 28,
     "metadata": {},
     "output_type": "execute_result"
    }
   ],
   "source": [
    "df.head()"
   ]
  },
  {
   "cell_type": "code",
   "execution_count": 29,
   "metadata": {},
   "outputs": [
    {
     "data": {
      "text/plain": [
       "'Action'"
      ]
     },
     "execution_count": 29,
     "metadata": {},
     "output_type": "execute_result"
    }
   ],
   "source": [
    "df['genre']=df['genres'].str.split(\",\", expand= True)[0]\n",
    "df['genre'][0]"
   ]
  },
  {
   "cell_type": "code",
   "execution_count": 30,
   "metadata": {},
   "outputs": [
    {
     "data": {
      "text/html": [
       "<div>\n",
       "<style scoped>\n",
       "    .dataframe tbody tr th:only-of-type {\n",
       "        vertical-align: middle;\n",
       "    }\n",
       "\n",
       "    .dataframe tbody tr th {\n",
       "        vertical-align: top;\n",
       "    }\n",
       "\n",
       "    .dataframe thead th {\n",
       "        text-align: right;\n",
       "    }\n",
       "</style>\n",
       "<table border=\"1\" class=\"dataframe\">\n",
       "  <thead>\n",
       "    <tr style=\"text-align: right;\">\n",
       "      <th></th>\n",
       "      <th>averagerating</th>\n",
       "      <th>numvotes</th>\n",
       "      <th>primary_title</th>\n",
       "      <th>start_year</th>\n",
       "      <th>runtime_minutes</th>\n",
       "      <th>genres</th>\n",
       "      <th>studio</th>\n",
       "      <th>domestic_gross</th>\n",
       "      <th>foreign_gross</th>\n",
       "      <th>genre</th>\n",
       "    </tr>\n",
       "  </thead>\n",
       "  <tbody>\n",
       "    <tr>\n",
       "      <th>0</th>\n",
       "      <td>4.2</td>\n",
       "      <td>50352</td>\n",
       "      <td>The Legend of Hercules</td>\n",
       "      <td>2014</td>\n",
       "      <td>99.0</td>\n",
       "      <td>Action,Adventure,Fantasy</td>\n",
       "      <td>LG/S</td>\n",
       "      <td>18800000.0</td>\n",
       "      <td>42400000.0</td>\n",
       "      <td>Action</td>\n",
       "    </tr>\n",
       "    <tr>\n",
       "      <th>1</th>\n",
       "      <td>5.1</td>\n",
       "      <td>8296</td>\n",
       "      <td>Baggage Claim</td>\n",
       "      <td>2013</td>\n",
       "      <td>96.0</td>\n",
       "      <td>Comedy</td>\n",
       "      <td>FoxS</td>\n",
       "      <td>21600000.0</td>\n",
       "      <td>887000.0</td>\n",
       "      <td>Comedy</td>\n",
       "    </tr>\n",
       "    <tr>\n",
       "      <th>3</th>\n",
       "      <td>7.6</td>\n",
       "      <td>326657</td>\n",
       "      <td>Moneyball</td>\n",
       "      <td>2011</td>\n",
       "      <td>133.0</td>\n",
       "      <td>Biography,Drama,Sport</td>\n",
       "      <td>Sony</td>\n",
       "      <td>75600000.0</td>\n",
       "      <td>34600000.0</td>\n",
       "      <td>Biography</td>\n",
       "    </tr>\n",
       "    <tr>\n",
       "      <th>4</th>\n",
       "      <td>6.5</td>\n",
       "      <td>87288</td>\n",
       "      <td>Hereafter</td>\n",
       "      <td>2010</td>\n",
       "      <td>129.0</td>\n",
       "      <td>Drama,Fantasy,Romance</td>\n",
       "      <td>WB</td>\n",
       "      <td>32700000.0</td>\n",
       "      <td>72500000.0</td>\n",
       "      <td>Drama</td>\n",
       "    </tr>\n",
       "    <tr>\n",
       "      <th>5</th>\n",
       "      <td>7.4</td>\n",
       "      <td>428142</td>\n",
       "      <td>Mission: Impossible - Ghost Protocol</td>\n",
       "      <td>2011</td>\n",
       "      <td>132.0</td>\n",
       "      <td>Action,Adventure,Thriller</td>\n",
       "      <td>Par.</td>\n",
       "      <td>209400000.0</td>\n",
       "      <td>485300000.0</td>\n",
       "      <td>Action</td>\n",
       "    </tr>\n",
       "  </tbody>\n",
       "</table>\n",
       "</div>"
      ],
      "text/plain": [
       "   averagerating  numvotes                         primary_title  start_year  \\\n",
       "0            4.2     50352                The Legend of Hercules        2014   \n",
       "1            5.1      8296                         Baggage Claim        2013   \n",
       "3            7.6    326657                             Moneyball        2011   \n",
       "4            6.5     87288                             Hereafter        2010   \n",
       "5            7.4    428142  Mission: Impossible - Ghost Protocol        2011   \n",
       "\n",
       "   runtime_minutes                     genres studio  domestic_gross  \\\n",
       "0             99.0   Action,Adventure,Fantasy   LG/S      18800000.0   \n",
       "1             96.0                     Comedy   FoxS      21600000.0   \n",
       "3            133.0      Biography,Drama,Sport   Sony      75600000.0   \n",
       "4            129.0      Drama,Fantasy,Romance     WB      32700000.0   \n",
       "5            132.0  Action,Adventure,Thriller   Par.     209400000.0   \n",
       "\n",
       "   foreign_gross      genre  \n",
       "0     42400000.0     Action  \n",
       "1       887000.0     Comedy  \n",
       "3     34600000.0  Biography  \n",
       "4     72500000.0      Drama  \n",
       "5    485300000.0     Action  "
      ]
     },
     "execution_count": 30,
     "metadata": {},
     "output_type": "execute_result"
    }
   ],
   "source": [
    "df.head()"
   ]
  },
  {
   "cell_type": "code",
   "execution_count": 31,
   "metadata": {},
   "outputs": [],
   "source": [
    "df.drop(columns = ['genres'], axis=1, inplace = True)"
   ]
  },
  {
   "cell_type": "code",
   "execution_count": 32,
   "metadata": {},
   "outputs": [
    {
     "data": {
      "text/html": [
       "<div>\n",
       "<style scoped>\n",
       "    .dataframe tbody tr th:only-of-type {\n",
       "        vertical-align: middle;\n",
       "    }\n",
       "\n",
       "    .dataframe tbody tr th {\n",
       "        vertical-align: top;\n",
       "    }\n",
       "\n",
       "    .dataframe thead th {\n",
       "        text-align: right;\n",
       "    }\n",
       "</style>\n",
       "<table border=\"1\" class=\"dataframe\">\n",
       "  <thead>\n",
       "    <tr style=\"text-align: right;\">\n",
       "      <th></th>\n",
       "      <th>averagerating</th>\n",
       "      <th>numvotes</th>\n",
       "      <th>primary_title</th>\n",
       "      <th>start_year</th>\n",
       "      <th>runtime_minutes</th>\n",
       "      <th>studio</th>\n",
       "      <th>domestic_gross</th>\n",
       "      <th>foreign_gross</th>\n",
       "      <th>genre</th>\n",
       "    </tr>\n",
       "  </thead>\n",
       "  <tbody>\n",
       "    <tr>\n",
       "      <th>0</th>\n",
       "      <td>4.2</td>\n",
       "      <td>50352</td>\n",
       "      <td>The Legend of Hercules</td>\n",
       "      <td>2014</td>\n",
       "      <td>99.0</td>\n",
       "      <td>LG/S</td>\n",
       "      <td>18800000.0</td>\n",
       "      <td>42400000.0</td>\n",
       "      <td>Action</td>\n",
       "    </tr>\n",
       "    <tr>\n",
       "      <th>1</th>\n",
       "      <td>5.1</td>\n",
       "      <td>8296</td>\n",
       "      <td>Baggage Claim</td>\n",
       "      <td>2013</td>\n",
       "      <td>96.0</td>\n",
       "      <td>FoxS</td>\n",
       "      <td>21600000.0</td>\n",
       "      <td>887000.0</td>\n",
       "      <td>Comedy</td>\n",
       "    </tr>\n",
       "    <tr>\n",
       "      <th>3</th>\n",
       "      <td>7.6</td>\n",
       "      <td>326657</td>\n",
       "      <td>Moneyball</td>\n",
       "      <td>2011</td>\n",
       "      <td>133.0</td>\n",
       "      <td>Sony</td>\n",
       "      <td>75600000.0</td>\n",
       "      <td>34600000.0</td>\n",
       "      <td>Biography</td>\n",
       "    </tr>\n",
       "    <tr>\n",
       "      <th>4</th>\n",
       "      <td>6.5</td>\n",
       "      <td>87288</td>\n",
       "      <td>Hereafter</td>\n",
       "      <td>2010</td>\n",
       "      <td>129.0</td>\n",
       "      <td>WB</td>\n",
       "      <td>32700000.0</td>\n",
       "      <td>72500000.0</td>\n",
       "      <td>Drama</td>\n",
       "    </tr>\n",
       "    <tr>\n",
       "      <th>5</th>\n",
       "      <td>7.4</td>\n",
       "      <td>428142</td>\n",
       "      <td>Mission: Impossible - Ghost Protocol</td>\n",
       "      <td>2011</td>\n",
       "      <td>132.0</td>\n",
       "      <td>Par.</td>\n",
       "      <td>209400000.0</td>\n",
       "      <td>485300000.0</td>\n",
       "      <td>Action</td>\n",
       "    </tr>\n",
       "  </tbody>\n",
       "</table>\n",
       "</div>"
      ],
      "text/plain": [
       "   averagerating  numvotes                         primary_title  start_year  \\\n",
       "0            4.2     50352                The Legend of Hercules        2014   \n",
       "1            5.1      8296                         Baggage Claim        2013   \n",
       "3            7.6    326657                             Moneyball        2011   \n",
       "4            6.5     87288                             Hereafter        2010   \n",
       "5            7.4    428142  Mission: Impossible - Ghost Protocol        2011   \n",
       "\n",
       "   runtime_minutes studio  domestic_gross  foreign_gross      genre  \n",
       "0             99.0   LG/S      18800000.0     42400000.0     Action  \n",
       "1             96.0   FoxS      21600000.0       887000.0     Comedy  \n",
       "3            133.0   Sony      75600000.0     34600000.0  Biography  \n",
       "4            129.0     WB      32700000.0     72500000.0      Drama  \n",
       "5            132.0   Par.     209400000.0    485300000.0     Action  "
      ]
     },
     "execution_count": 32,
     "metadata": {},
     "output_type": "execute_result"
    }
   ],
   "source": [
    "df.head()"
   ]
  },
  {
   "cell_type": "code",
   "execution_count": 33,
   "metadata": {},
   "outputs": [
    {
     "data": {
      "text/html": [
       "<div>\n",
       "<style scoped>\n",
       "    .dataframe tbody tr th:only-of-type {\n",
       "        vertical-align: middle;\n",
       "    }\n",
       "\n",
       "    .dataframe tbody tr th {\n",
       "        vertical-align: top;\n",
       "    }\n",
       "\n",
       "    .dataframe thead th {\n",
       "        text-align: right;\n",
       "    }\n",
       "</style>\n",
       "<table border=\"1\" class=\"dataframe\">\n",
       "  <thead>\n",
       "    <tr style=\"text-align: right;\">\n",
       "      <th></th>\n",
       "      <th>averagerating</th>\n",
       "      <th>numvotes</th>\n",
       "      <th>start_year</th>\n",
       "      <th>runtime_minutes</th>\n",
       "      <th>domestic_gross</th>\n",
       "      <th>foreign_gross</th>\n",
       "    </tr>\n",
       "  </thead>\n",
       "  <tbody>\n",
       "    <tr>\n",
       "      <th>count</th>\n",
       "      <td>1767.000000</td>\n",
       "      <td>1.767000e+03</td>\n",
       "      <td>1767.000000</td>\n",
       "      <td>1767.000000</td>\n",
       "      <td>1.767000e+03</td>\n",
       "      <td>1.767000e+03</td>\n",
       "    </tr>\n",
       "    <tr>\n",
       "      <th>mean</th>\n",
       "      <td>6.459706</td>\n",
       "      <td>9.692010e+04</td>\n",
       "      <td>2013.559706</td>\n",
       "      <td>107.895869</td>\n",
       "      <td>5.008103e+07</td>\n",
       "      <td>7.959582e+07</td>\n",
       "    </tr>\n",
       "    <tr>\n",
       "      <th>std</th>\n",
       "      <td>0.991033</td>\n",
       "      <td>1.539057e+05</td>\n",
       "      <td>2.621180</td>\n",
       "      <td>20.105904</td>\n",
       "      <td>8.101089e+07</td>\n",
       "      <td>1.403646e+08</td>\n",
       "    </tr>\n",
       "    <tr>\n",
       "      <th>min</th>\n",
       "      <td>1.600000</td>\n",
       "      <td>5.000000e+00</td>\n",
       "      <td>2010.000000</td>\n",
       "      <td>3.000000</td>\n",
       "      <td>4.000000e+02</td>\n",
       "      <td>6.000000e+02</td>\n",
       "    </tr>\n",
       "    <tr>\n",
       "      <th>25%</th>\n",
       "      <td>5.900000</td>\n",
       "      <td>6.392500e+03</td>\n",
       "      <td>2011.000000</td>\n",
       "      <td>95.000000</td>\n",
       "      <td>1.300000e+06</td>\n",
       "      <td>4.900000e+06</td>\n",
       "    </tr>\n",
       "    <tr>\n",
       "      <th>50%</th>\n",
       "      <td>6.500000</td>\n",
       "      <td>3.987000e+04</td>\n",
       "      <td>2013.000000</td>\n",
       "      <td>106.000000</td>\n",
       "      <td>2.110000e+07</td>\n",
       "      <td>2.150000e+07</td>\n",
       "    </tr>\n",
       "    <tr>\n",
       "      <th>75%</th>\n",
       "      <td>7.100000</td>\n",
       "      <td>1.171330e+05</td>\n",
       "      <td>2016.000000</td>\n",
       "      <td>119.000000</td>\n",
       "      <td>6.120000e+07</td>\n",
       "      <td>8.195000e+07</td>\n",
       "    </tr>\n",
       "    <tr>\n",
       "      <th>max</th>\n",
       "      <td>9.200000</td>\n",
       "      <td>1.841066e+06</td>\n",
       "      <td>2019.000000</td>\n",
       "      <td>272.000000</td>\n",
       "      <td>7.001000e+08</td>\n",
       "      <td>9.464000e+08</td>\n",
       "    </tr>\n",
       "  </tbody>\n",
       "</table>\n",
       "</div>"
      ],
      "text/plain": [
       "       averagerating      numvotes   start_year  runtime_minutes  \\\n",
       "count    1767.000000  1.767000e+03  1767.000000      1767.000000   \n",
       "mean        6.459706  9.692010e+04  2013.559706       107.895869   \n",
       "std         0.991033  1.539057e+05     2.621180        20.105904   \n",
       "min         1.600000  5.000000e+00  2010.000000         3.000000   \n",
       "25%         5.900000  6.392500e+03  2011.000000        95.000000   \n",
       "50%         6.500000  3.987000e+04  2013.000000       106.000000   \n",
       "75%         7.100000  1.171330e+05  2016.000000       119.000000   \n",
       "max         9.200000  1.841066e+06  2019.000000       272.000000   \n",
       "\n",
       "       domestic_gross  foreign_gross  \n",
       "count    1.767000e+03   1.767000e+03  \n",
       "mean     5.008103e+07   7.959582e+07  \n",
       "std      8.101089e+07   1.403646e+08  \n",
       "min      4.000000e+02   6.000000e+02  \n",
       "25%      1.300000e+06   4.900000e+06  \n",
       "50%      2.110000e+07   2.150000e+07  \n",
       "75%      6.120000e+07   8.195000e+07  \n",
       "max      7.001000e+08   9.464000e+08  "
      ]
     },
     "execution_count": 33,
     "metadata": {},
     "output_type": "execute_result"
    }
   ],
   "source": [
    "#overal dataset\n",
    "\n",
    "df.describe()"
   ]
  },
  {
   "cell_type": "markdown",
   "metadata": {},
   "source": [
    "# Data Visualization\n"
   ]
  },
  {
   "cell_type": "markdown",
   "metadata": {},
   "source": [
    "Visualizing the dataset"
   ]
  },
  {
   "cell_type": "code",
   "execution_count": 44,
   "metadata": {},
   "outputs": [
    {
     "data": {
      "image/png": "[encoded data removed]",
      "text/plain": [
       "<Figure size 432x288 with 1 Axes>"
      ]
     },
     "metadata": {
      "needs_background": "light"
     },
     "output_type": "display_data"
    }
   ],
   "source": [
    "ax = sns.histplot(data=df, x=\"runtime_minutes\", bins=10, color='purple')\n",
    "\n",
    "# Set the title for the plot\n",
    "ax.set_title('Distribution of runtime in minutes')\n",
    "\n",
    "# Show the plot\n",
    "plt.show()\n"
   ]
  },
  {
   "cell_type": "code",
   "execution_count": 65,
   "metadata": {},
   "outputs": [
    {
     "data": {
      "image/png": "[encoded data removed]",
      "text/plain": [
       "<Figure size 432x288 with 1 Axes>"
      ]
     },
     "metadata": {
      "needs_background": "light"
     },
     "output_type": "display_data"
    }
   ],
   "source": [
    "\n",
    "# Select the data to be plotted\n",
    "data = df['runtime_minutes']\n",
    "\n",
    "# Plot the box plot with the desired color\n",
    "plt.boxplot(data, boxprops={'color': 'purple'})\n",
    "\n",
    "# Add a title to the plot\n",
    "plt.title('Runtime in Minutes')\n",
    "\n",
    "# Add a label to the y-axis\n",
    "plt.ylabel('Runtime in Minutes')\n",
    "\n",
    "# Show the plot\n",
    "plt.show()"
   ]
  },
  {
   "cell_type": "code",
   "execution_count": 51,
   "metadata": {},
   "outputs": [
    {
     "name": "stdout",
     "output_type": "stream",
     "text": [
      "      averagerating  numvotes primary_title  start_year  runtime_minutes  \\\n",
      "482             6.7        10     Limitless        2015              3.0   \n",
      "1052            7.9        12      The Call        2013             25.0   \n",
      "\n",
      "     studio  domestic_gross  foreign_gross        genre  \n",
      "482   Rela.      79200000.0     82600000.0    Biography  \n",
      "1052   TriS      51900000.0     16700000.0  Documentary  \n"
     ]
    }
   ],
   "source": [
    "#identifying the movie with less that 5 minutes runtime\n",
    "data=df[df['runtime_minutes']<=25]\n",
    "print(data)"
   ]
  },
  {
   "cell_type": "code",
   "execution_count": 52,
   "metadata": {},
   "outputs": [
    {
     "data": {
      "text/plain": [
       "0"
      ]
     },
     "execution_count": 52,
     "metadata": {},
     "output_type": "execute_result"
    }
   ],
   "source": [
    "df.duplicated().sum()"
   ]
  },
  {
   "cell_type": "code",
   "execution_count": 53,
   "metadata": {},
   "outputs": [
    {
     "data": {
      "text/html": [
       "<div>\n",
       "<style scoped>\n",
       "    .dataframe tbody tr th:only-of-type {\n",
       "        vertical-align: middle;\n",
       "    }\n",
       "\n",
       "    .dataframe tbody tr th {\n",
       "        vertical-align: top;\n",
       "    }\n",
       "\n",
       "    .dataframe thead th {\n",
       "        text-align: right;\n",
       "    }\n",
       "</style>\n",
       "<table border=\"1\" class=\"dataframe\">\n",
       "  <thead>\n",
       "    <tr style=\"text-align: right;\">\n",
       "      <th></th>\n",
       "      <th>averagerating</th>\n",
       "      <th>numvotes</th>\n",
       "      <th>primary_title</th>\n",
       "      <th>start_year</th>\n",
       "      <th>runtime_minutes</th>\n",
       "      <th>studio</th>\n",
       "      <th>domestic_gross</th>\n",
       "      <th>foreign_gross</th>\n",
       "      <th>genre</th>\n",
       "    </tr>\n",
       "  </thead>\n",
       "  <tbody>\n",
       "    <tr>\n",
       "      <th>0</th>\n",
       "      <td>4.2</td>\n",
       "      <td>50352</td>\n",
       "      <td>The Legend of Hercules</td>\n",
       "      <td>2014</td>\n",
       "      <td>99.0</td>\n",
       "      <td>LG/S</td>\n",
       "      <td>18800000.0</td>\n",
       "      <td>42400000.0</td>\n",
       "      <td>Action</td>\n",
       "    </tr>\n",
       "    <tr>\n",
       "      <th>1</th>\n",
       "      <td>5.1</td>\n",
       "      <td>8296</td>\n",
       "      <td>Baggage Claim</td>\n",
       "      <td>2013</td>\n",
       "      <td>96.0</td>\n",
       "      <td>FoxS</td>\n",
       "      <td>21600000.0</td>\n",
       "      <td>887000.0</td>\n",
       "      <td>Comedy</td>\n",
       "    </tr>\n",
       "    <tr>\n",
       "      <th>3</th>\n",
       "      <td>7.6</td>\n",
       "      <td>326657</td>\n",
       "      <td>Moneyball</td>\n",
       "      <td>2011</td>\n",
       "      <td>133.0</td>\n",
       "      <td>Sony</td>\n",
       "      <td>75600000.0</td>\n",
       "      <td>34600000.0</td>\n",
       "      <td>Biography</td>\n",
       "    </tr>\n",
       "    <tr>\n",
       "      <th>4</th>\n",
       "      <td>6.5</td>\n",
       "      <td>87288</td>\n",
       "      <td>Hereafter</td>\n",
       "      <td>2010</td>\n",
       "      <td>129.0</td>\n",
       "      <td>WB</td>\n",
       "      <td>32700000.0</td>\n",
       "      <td>72500000.0</td>\n",
       "      <td>Drama</td>\n",
       "    </tr>\n",
       "    <tr>\n",
       "      <th>5</th>\n",
       "      <td>7.4</td>\n",
       "      <td>428142</td>\n",
       "      <td>Mission: Impossible - Ghost Protocol</td>\n",
       "      <td>2011</td>\n",
       "      <td>132.0</td>\n",
       "      <td>Par.</td>\n",
       "      <td>209400000.0</td>\n",
       "      <td>485300000.0</td>\n",
       "      <td>Action</td>\n",
       "    </tr>\n",
       "  </tbody>\n",
       "</table>\n",
       "</div>"
      ],
      "text/plain": [
       "   averagerating  numvotes                         primary_title  start_year  \\\n",
       "0            4.2     50352                The Legend of Hercules        2014   \n",
       "1            5.1      8296                         Baggage Claim        2013   \n",
       "3            7.6    326657                             Moneyball        2011   \n",
       "4            6.5     87288                             Hereafter        2010   \n",
       "5            7.4    428142  Mission: Impossible - Ghost Protocol        2011   \n",
       "\n",
       "   runtime_minutes studio  domestic_gross  foreign_gross      genre  \n",
       "0             99.0   LG/S      18800000.0     42400000.0     Action  \n",
       "1             96.0   FoxS      21600000.0       887000.0     Comedy  \n",
       "3            133.0   Sony      75600000.0     34600000.0  Biography  \n",
       "4            129.0     WB      32700000.0     72500000.0      Drama  \n",
       "5            132.0   Par.     209400000.0    485300000.0     Action  "
      ]
     },
     "execution_count": 53,
     "metadata": {},
     "output_type": "execute_result"
    }
   ],
   "source": [
    "df = df.drop(df[df['runtime_minutes'] == 3].index)\n",
    "df.head()"
   ]
  },
  {
   "cell_type": "code",
   "execution_count": 54,
   "metadata": {},
   "outputs": [
    {
     "name": "stdout",
     "output_type": "stream",
     "text": [
      "      averagerating  numvotes primary_title  start_year  runtime_minutes  \\\n",
      "1052            7.9        12      The Call        2013             25.0   \n",
      "\n",
      "     studio  domestic_gross  foreign_gross        genre  \n",
      "1052   TriS      51900000.0     16700000.0  Documentary  \n"
     ]
    }
   ],
   "source": [
    "#checking the presence of the outlier\n",
    "data=df[df['runtime_minutes']<=25]\n",
    "print(data)"
   ]
  },
  {
   "cell_type": "markdown",
   "metadata": {},
   "source": [
    "NOTE:From this histogram, the average runtime for a movie is 107.895 minutes which is slightly differnt from the mean runtime, however this does not cause big significance difference hence explaining its normal distribution."
   ]
  },
  {
   "cell_type": "code",
   "execution_count": 61,
   "metadata": {},
   "outputs": [
    {
     "data": {
      "image/png": "[encoded data removed]",
      "text/plain": [
       "<Figure size 432x288 with 1 Axes>"
      ]
     },
     "metadata": {
      "needs_background": "light"
     },
     "output_type": "display_data"
    }
   ],
   "source": [
    "# Create the histogram \n",
    "ax = sns.histplot(data=df, x=\"numvotes\", bins=15, color='skyblue')\n",
    "\n",
    "# Set the title for the plot\n",
    "ax.set_title('Distribution of number of votes')\n",
    "\n",
    "# Show the plot\n",
    "plt.show()"
   ]
  },
  {
   "cell_type": "code",
   "execution_count": 88,
   "metadata": {},
   "outputs": [
    {
     "data": {
      "image/png": "[encoded data removed]",
      "text/plain": [
       "<Figure size 432x288 with 1 Axes>"
      ]
     },
     "metadata": {
      "needs_background": "light"
     },
     "output_type": "display_data"
    }
   ],
   "source": [
    "# Select the data to be plotted\n",
    "data = df['numvotes']\n",
    "\n",
    "# Plot the box plot with the desired color\n",
    "plt.boxplot(data, boxprops={'color': 'skyblue'})\n",
    "\n",
    "# Add a title to the plot\n",
    "plt.title('Number Of Votes')\n",
    "\n",
    "# Add a label to the y-axis\n",
    "plt.ylabel('numvotes')\n",
    "\n",
    "# Show the plot\n",
    "plt.show()"
   ]
  },
  {
   "cell_type": "code",
   "execution_count": 89,
   "metadata": {},
   "outputs": [
    {
     "data": {
      "image/png": "[encoded data removed]",
      "text/plain": [
       "<Figure size 432x288 with 1 Axes>"
      ]
     },
     "metadata": {
      "needs_background": "light"
     },
     "output_type": "display_data"
    }
   ],
   "source": [
    "# Create the histogram \n",
    "ax = sns.histplot(data=df, x=\"foreign_gross\", bins=15, color='yellow')\n",
    "\n",
    "# Set the title for the plot\n",
    "ax.set_title('Distribution of gross international revenue')\n",
    "\n",
    "# Show the plot\n",
    "plt.show()"
   ]
  },
  {
   "cell_type": "code",
   "execution_count": 67,
   "metadata": {},
   "outputs": [
    {
     "data": {
      "image/png": "[encoded data removed]",
      "text/plain": [
       "<Figure size 432x288 with 1 Axes>"
      ]
     },
     "metadata": {
      "needs_background": "light"
     },
     "output_type": "display_data"
    }
   ],
   "source": [
    "# Select the data to be plotted\n",
    "data = df['foreign_gross']\n",
    "\n",
    "# Plot the box plot\n",
    "plt.boxplot(data, boxprops={'color': 'yellow'})\n",
    "\n",
    "# Add a title to the plot\n",
    "plt.title('Box Plot of International Revenue')\n",
    "\n",
    "# Add a label to the y-axis\n",
    "plt.ylabel('Foreign_gross')\n",
    "\n",
    "# Show the plot\n",
    "plt.show()"
   ]
  },
  {
   "cell_type": "markdown",
   "metadata": {},
   "source": [
    "# Data Analysis"
   ]
  },
  {
   "cell_type": "markdown",
   "metadata": {},
   "source": [
    "conducting EDA on the dataset\n",
    "visualizing the data to identify trends.\n",
    "Exploring the type of genre."
   ]
  },
  {
   "cell_type": "code",
   "execution_count": 93,
   "metadata": {},
   "outputs": [
    {
     "data": {
      "image/png": "[encoded data removed]",
      "text/plain": [
       "<Figure size 720x576 with 1 Axes>"
      ]
     },
     "metadata": {
      "needs_background": "light"
     },
     "output_type": "display_data"
    }
   ],
   "source": [
    "\n",
    "#Finding the correlation between numvotes and domestic gross\n",
    "\n",
    "# Define fData as the DataFrame containing the relevant columns\n",
    "fData = df[['numvotes', 'domestic_gross']]\n",
    "\n",
    "# Extract the 'numvotes' and 'domestic_gross' columns for the scatter plot\n",
    "x = fData['numvotes']\n",
    "y = fData['domestic_gross']\n",
    "\n",
    "# Create a scatter plot with the desired color (blue)\n",
    "fig, ax = plt.subplots(figsize=(10, 8))\n",
    "ax.scatter(x, y, c=\"maroon\")\n",
    "\n",
    "# Add labels to the x and y axes\n",
    "ax.set_xlabel('Number of Votes')\n",
    "ax.set_ylabel('Domestic Gross')\n",
    "\n",
    "# Add a title to the plot\n",
    "ax.set_title('Scatter Plot: Number of Votes vs. Domestic Gross')\n",
    "\n",
    "# Show the plot\n",
    "plt.show()"
   ]
  },
  {
   "cell_type": "markdown",
   "metadata": {},
   "source": [
    "A correlaton bellow 0.5 indicates weak correlation, which means a movie could run for over 2 hours and still be rated highly, or have a runtime of below 70 minutes and still be rated highly. From the previous visualizations, remarkable rating could result from the type of genre and also the studio type."
   ]
  },
  {
   "cell_type": "code",
   "execution_count": 104,
   "metadata": {},
   "outputs": [
    {
     "data": {
      "text/plain": [
       "0.33379995293842174"
      ]
     },
     "execution_count": 104,
     "metadata": {},
     "output_type": "execute_result"
    }
   ],
   "source": [
    "#correlation\n",
    "df['runtime_minutes'].corr(df['numvotes'])"
   ]
  },
  {
   "cell_type": "code",
   "execution_count": 105,
   "metadata": {},
   "outputs": [
    {
     "data": {
      "text/plain": [
       "0.2500941557703461"
      ]
     },
     "execution_count": 105,
     "metadata": {},
     "output_type": "execute_result"
    }
   ],
   "source": [
    "#correlation\n",
    "df['runtime_minutes'].corr(df['averagerating'])"
   ]
  },
  {
   "cell_type": "code",
   "execution_count": 69,
   "metadata": {},
   "outputs": [
    {
     "data": {
      "image/png": "[encoded data removed]",
      "text/plain": [
       "<Figure size 432x288 with 1 Axes>"
      ]
     },
     "metadata": {
      "needs_background": "light"
     },
     "output_type": "display_data"
    }
   ],
   "source": [
    "# Create the histogram with the desired color (burgundy)\n",
    "ax = sns.histplot(data=df, x=\"domestic_gross\", bins=15, color='orange')\n",
    "\n",
    "# Set the title for the plot\n",
    "ax.set_title('Distribution of gross domestic revenue')\n",
    "\n",
    "# Show the plot\n",
    "plt.show()"
   ]
  },
  {
   "cell_type": "code",
   "execution_count": 70,
   "metadata": {},
   "outputs": [
    {
     "data": {
      "image/png": "[encoded data removed]",
      "text/plain": [
       "<Figure size 432x288 with 1 Axes>"
      ]
     },
     "metadata": {
      "needs_background": "light"
     },
     "output_type": "display_data"
    }
   ],
   "source": [
    "# Select the data to be plotted\n",
    "data = df['domestic_gross']\n",
    "\n",
    "# Plot the box plot\n",
    "plt.boxplot(data, boxprops={'color': 'yellow'})\n",
    "\n",
    "# Add a title to the plot\n",
    "plt.title('Box Plot of domestic_gross')\n",
    "\n",
    "# Add a label to the y-axis\n",
    "plt.ylabel('domestic_gross')\n",
    "\n",
    "# Show the plot\n",
    "plt.show()"
   ]
  },
  {
   "cell_type": "markdown",
   "metadata": {},
   "source": [
    "The above plots violates the normal distribution, and this explains the difference in their mean and median values.\n"
   ]
  },
  {
   "cell_type": "code",
   "execution_count": 72,
   "metadata": {},
   "outputs": [
    {
     "data": {
      "text/plain": [
       "Action         458\n",
       "Drama          360\n",
       "Comedy         359\n",
       "Adventure      173\n",
       "Biography      137\n",
       "Crime           80\n",
       "Horror          76\n",
       "Documentary     65\n",
       "Animation       22\n",
       "Thriller        11\n",
       "Fantasy          9\n",
       "Mystery          7\n",
       "Romance          4\n",
       "Family           3\n",
       "Music            1\n",
       "Sci-Fi           1\n",
       "Name: genre, dtype: int64"
      ]
     },
     "execution_count": 72,
     "metadata": {},
     "output_type": "execute_result"
    }
   ],
   "source": [
    "# Calculating the value counts for each genre in ascending order\n",
    "df['genre'].value_counts(ascending=False)"
   ]
  },
  {
   "cell_type": "code",
   "execution_count": 74,
   "metadata": {
    "scrolled": true
   },
   "outputs": [
    {
     "data": {
      "image/png": "[encoded data removed]",
      "text/plain": [
       "<Figure size 432x288 with 1 Axes>"
      ]
     },
     "metadata": {
      "needs_background": "light"
     },
     "output_type": "display_data"
    }
   ],
   "source": [
    "# Calculate value counts for each genre\n",
    "genre_counts = df['genre'].value_counts(ascending=False)\n",
    "\n",
    "# Plot the bar plot with the desired color (green)\n",
    "plt.bar(genre_counts.index, genre_counts.values, color='green')\n",
    "\n",
    "# Add labels to the x and y axes\n",
    "plt.xlabel('Genre')\n",
    "plt.ylabel('Counts')\n",
    "\n",
    "# Add a title to the plot\n",
    "plt.title('Genre Counts Bar Plot')\n",
    "\n",
    "# Rotate x-axis labels for better readability\n",
    "plt.xticks(rotation=50)\n",
    "\n",
    "# Show the plot\n",
    "plt.show()\n"
   ]
  },
  {
   "cell_type": "markdown",
   "metadata": {},
   "source": [
    "Action,Drama,Adventure,Comedy movies are the most frequent in the dataset."
   ]
  },
  {
   "cell_type": "code",
   "execution_count": 86,
   "metadata": {},
   "outputs": [
    {
     "data": {
      "image/png": "[encoded data removed]",
      "text/plain": [
       "<Figure size 432x288 with 1 Axes>"
      ]
     },
     "metadata": {
      "needs_background": "light"
     },
     "output_type": "display_data"
    }
   ],
   "source": [
    "# Calculate the average rating for each genre\n",
    "genre_ratings = df.groupby('genre')['averagerating'].mean()\n",
    "\n",
    "# Sort the genre ratings in descending order\n",
    "genre_ratings = genre_ratings.sort_values(ascending=False)\n",
    "\n",
    "# Plot the bar plot with the desired color (pink)\n",
    "plt.bar(genre_ratings.index, genre_ratings.values, color='pink')\n",
    "\n",
    "# Add labels to the x and y axes\n",
    "plt.xlabel('Genre')\n",
    "plt.ylabel('Average Rating')\n",
    "\n",
    "# Add a title to the plot\n",
    "plt.title('Average Rating by Genre Bar Plot')\n",
    "\n",
    "# Rotate x-axis labels for better readability\n",
    "plt.xticks(rotation=60)\n",
    "\n",
    "# Show the plot\n",
    "plt.show()"
   ]
  },
  {
   "cell_type": "markdown",
   "metadata": {},
   "source": [
    "Music,Biography,Documentary,Mystery and Animation are the most rated genres\n",
    "\n",
    "Checking for most voted genres\n"
   ]
  },
  {
   "cell_type": "code",
   "execution_count": 85,
   "metadata": {},
   "outputs": [
    {
     "data": {
      "image/png": "[encoded data removed]",
      "text/plain": [
       "<Figure size 432x288 with 1 Axes>"
      ]
     },
     "metadata": {
      "needs_background": "light"
     },
     "output_type": "display_data"
    }
   ],
   "source": [
    "# Calculate the number of votes for each genre\n",
    "genre_votes = df.groupby('genre')['numvotes'].sum()\n",
    "\n",
    "# Sort the genre votes in descending order\n",
    "genre_votes = genre_votes.sort_values(ascending=False)\n",
    "\n",
    "# Plot the bar plot with the desired color (black)\n",
    "plt.bar(genre_votes.index, genre_votes.values, color='black')\n",
    "\n",
    "# Add labels to the x and y axes\n",
    "plt.xlabel('Genre')\n",
    "plt.ylabel('Number of Votes')\n",
    "\n",
    "# Add a title to the plot\n",
    "plt.title('Number of Votes by Genre Bar Plot')\n",
    "\n",
    "# Rotate x-axis labels for better readability\n",
    "plt.xticks(rotation=60)\n",
    "\n",
    "# Show the plot\n",
    "plt.show()"
   ]
  },
  {
   "cell_type": "markdown",
   "metadata": {},
   "source": [
    "Action, Comedy, drama and Adventure are the leading genres.\n",
    "\n",
    "Checking for popular movies."
   ]
  },
  {
   "cell_type": "code",
   "execution_count": 83,
   "metadata": {},
   "outputs": [
    {
     "data": {
      "image/png": "[encoded data removed]",
      "text/plain": [
       "<Figure size 432x288 with 1 Axes>"
      ]
     },
     "metadata": {
      "needs_background": "light"
     },
     "output_type": "display_data"
    }
   ],
   "source": [
    "# Calculate the number of votes for each movie title\n",
    "title_votes = df.groupby('primary_title')['numvotes'].sum()\n",
    "\n",
    "# Sort the title votes in descending order\n",
    "title_votes = title_votes.sort_values(ascending=False)\n",
    "\n",
    "# Plot the bar plot for the first 20 titles with the desired color (red)\n",
    "plt.bar(title_votes.index[:20], title_votes.values[:20], color='red')\n",
    "\n",
    "# Add labels to the x and y axes\n",
    "plt.xlabel('Movie Title')\n",
    "plt.ylabel('Number of Votes')\n",
    "\n",
    "# Add a title to the plot\n",
    "plt.title('Number of Votes by Movie Title Bar Plot (Top 20)')\n",
    "\n",
    "# Rotate the x-axis labels to prevent them from overlapping\n",
    "plt.xticks(rotation=90)\n",
    "\n",
    "# Show the plot\n",
    "plt.show()"
   ]
  },
  {
   "cell_type": "code",
   "execution_count": 94,
   "metadata": {},
   "outputs": [
    {
     "data": {
      "image/png": "[encoded data removed]",
      "text/plain": [
       "<Figure size 432x288 with 1 Axes>"
      ]
     },
     "metadata": {
      "needs_background": "light"
     },
     "output_type": "display_data"
    }
   ],
   "source": [
    "# Calculate the domestic and international revenue for each genre\n",
    "genre_revenue = df.groupby('genre')[['domestic_gross', 'foreign_gross']].sum()\n",
    "\n",
    "# Sort the genre revenue in descending order\n",
    "genre_revenue = genre_revenue.sort_values(by=['domestic_gross', 'foreign_gross'], ascending=False)\n",
    "\n",
    "# Set the x-axis as the genre names\n",
    "x = np.arange(len(genre_revenue.index))\n",
    "\n",
    "# Plot the bar plot for the domestic and international revenue with desired colors (green and brown)\n",
    "plt.bar(x - 0.2, genre_revenue['domestic_gross'], 0.2, label='Domestic Revenue', color='green')\n",
    "plt.bar(x, genre_revenue['foreign_gross'], 0.2, label='International Revenue', color='brown')\n",
    "\n",
    "# Add labels to the x and y axes\n",
    "plt.xlabel('Movie Genre')\n",
    "plt.ylabel('Revenue (in millions)')\n",
    "\n",
    "# Add a title to the plot\n",
    "plt.title('Revenue by Movie Genre Bar Plot (Sorted)')\n",
    "\n",
    "# Add the genre names as x-axis labels\n",
    "plt.xticks(x, genre_revenue.index)\n",
    "\n",
    "# Add a legend to the plot\n",
    "plt.legend()\n",
    "\n",
    "# Rotate the x-axis labels to prevent them from overlapping\n",
    "plt.xticks(rotation=60)\n",
    "\n",
    "# Show the plot\n",
    "plt.show()"
   ]
  },
  {
   "cell_type": "code",
   "execution_count": 97,
   "metadata": {},
   "outputs": [
    {
     "data": {
      "image/png": "[encoded data removed]",
      "text/plain": [
       "<Figure size 432x288 with 1 Axes>"
      ]
     },
     "metadata": {
      "needs_background": "light"
     },
     "output_type": "display_data"
    }
   ],
   "source": [
    "# Calculate the combined domestic and international revenue for each title\n",
    "title_revenue = df.groupby('primary_title')[['domestic_gross', 'foreign_gross']].sum()\n",
    "\n",
    "# Sort the title revenue in descending order\n",
    "title_revenue = title_revenue.sort_values(by=['domestic_gross', 'foreign_gross'], ascending=False)\n",
    "\n",
    "# Take the first 20 rows of the title revenue\n",
    "title_revenue = title_revenue.iloc[:20,:]\n",
    "\n",
    "# Set the x-axis as the title names\n",
    "x = np.arange(len(title_revenue.index))\n",
    "\n",
    "# Plot the bar plot for the domestic and international revenue with desired colors (green and maroon)\n",
    "plt.bar(x - 0.2, title_revenue['domestic_gross'], 0.2, label='Domestic Revenue', color='green')\n",
    "plt.bar(x, title_revenue['foreign_gross'], 0.2, label='International Revenue', color='maroon')\n",
    "\n",
    "# Add labels to the x and y axes\n",
    "plt.xlabel('Movie Title')\n",
    "plt.ylabel('Revenue (in millions)')\n",
    "\n",
    "# Add a title to the plot\n",
    "plt.title('Top 20 Movies by Combined Revenue Bar Plot')\n",
    "\n",
    "# Add the title names as x-axis labels\n",
    "plt.xticks(x, title_revenue.index, rotation=90)\n",
    "\n",
    "# Add a legend to the plot\n",
    "plt.legend()\n",
    "\n",
    "# Show the plot\n",
    "plt.show()\n"
   ]
  },
  {
   "cell_type": "code",
   "execution_count": 99,
   "metadata": {},
   "outputs": [
    {
     "data": {
      "image/png": "[encoded data removed]",
      "text/plain": [
       "<Figure size 432x288 with 1 Axes>"
      ]
     },
     "metadata": {
      "needs_background": "light"
     },
     "output_type": "display_data"
    }
   ],
   "source": [
    "# Calculate the combined domestic and international revenue for each studio\n",
    "studio_revenue = df.groupby('studio')[['domestic_gross', 'foreign_gross']].sum()\n",
    "\n",
    "# Sort the studio revenue in descending order\n",
    "studio_revenue = studio_revenue.sort_values(by=['domestic_gross', 'foreign_gross'], ascending=False)\n",
    "\n",
    "# Take the first 20 rows of the studio revenue\n",
    "studio_revenue = studio_revenue.iloc[:20, :]\n",
    "\n",
    "# Set the x-axis as the studio names\n",
    "x = np.arange(len(studio_revenue.index))\n",
    "\n",
    "# Plot the bar plot for the domestic and international revenue with desired colors (green and maroon)\n",
    "plt.bar(x - 0.2, studio_revenue['domestic_gross'], 0.2, label='Domestic Revenue', color='green')\n",
    "plt.bar(x, studio_revenue['foreign_gross'], 0.2, label='International Revenue', color='maroon')\n",
    "\n",
    "# Add labels to the x and y axes\n",
    "plt.xlabel('Studio')\n",
    "plt.ylabel('Revenue (in millions)')\n",
    "\n",
    "# Add a title to the plot\n",
    "plt.title('Top 20 Studios by Combined Revenue Bar Plot')\n",
    "\n",
    "# Add the studio names as x-axis labels\n",
    "plt.xticks(x, studio_revenue.index, rotation=90)\n",
    "\n",
    "# Add a legend to the plot\n",
    "plt.legend()\n",
    "\n",
    "# Show the plot\n",
    "plt.show()"
   ]
  },
  {
   "cell_type": "markdown",
   "metadata": {},
   "source": [
    "The first 20 studios have the most rated movie.\n",
    "With most of them generating more revenue on international markets as compared to domestic."
   ]
  },
  {
   "cell_type": "code",
   "execution_count": 101,
   "metadata": {},
   "outputs": [
    {
     "data": {
      "image/png": "[encoded data removed]",
      "text/plain": [
       "<Figure size 432x288 with 1 Axes>"
      ]
     },
     "metadata": {
      "needs_background": "light"
     },
     "output_type": "display_data"
    }
   ],
   "source": [
    "# Calculate the number of rated movies for each studio\n",
    "studio_ratings = df['studio'].value_counts()\n",
    "\n",
    "# Sort the studio ratings in descending order\n",
    "studio_ratings = studio_ratings.sort_values(ascending=False)\n",
    "\n",
    "# Take the first 20 rows of the studio ratings\n",
    "studio_ratings = studio_ratings.iloc[:20]\n",
    "\n",
    "# Set the x-axis as the studio names\n",
    "x = np.arange(len(studio_ratings.index))\n",
    "\n",
    "# Define a list of colors for each bar in the bar plot\n",
    "colors = ['blue', 'green', 'red', 'purple', 'orange', 'pink', 'brown', 'gray', 'cyan', 'magenta',\n",
    "          'lightblue', 'lightgreen', 'lightcoral', 'lightpink', 'lightsalmon', 'lightgray', 'lightcyan', 'lightyellow', 'lightseagreen', 'plum']\n",
    "\n",
    "# Plot the bar plot for the number of rated movies with different colors for each bar\n",
    "plt.bar(x, studio_ratings.values, color=colors)\n",
    "\n",
    "# Add labels to the x and y axes\n",
    "plt.xlabel('Studio')\n",
    "plt.ylabel('Number of Rated Movies')\n",
    "\n",
    "# Add a title to the plot\n",
    "plt.title('Top 20 Studios by Number of Rated Movies Bar Plot')\n",
    "\n",
    "# Add the studio names as x-axis labels\n",
    "plt.xticks(x, studio_ratings.index, rotation=90)\n",
    "\n",
    "# Show the plot\n",
    "plt.show()\n"
   ]
  },
  {
   "cell_type": "markdown",
   "metadata": {},
   "source": [
    "The reason why some studios are more highly rated than others is because some are complex and multifaceted, and can vary based on the individual studio and film."
   ]
  },
  {
   "cell_type": "code",
   "execution_count": 103,
   "metadata": {},
   "outputs": [
    {
     "data": {
      "image/png": "[encoded data removed]",
      "text/plain": [
       "<Figure size 432x288 with 1 Axes>"
      ]
     },
     "metadata": {
      "needs_background": "light"
     },
     "output_type": "display_data"
    }
   ],
   "source": [
    "# Group the data by start year and calculate the sum of domestic and international revenue\n",
    "grouped_df = df.groupby('start_year').agg({'domestic_gross': 'sum', 'foreign_gross': 'sum'})\n",
    "\n",
    "# Plot the line plots for domestic and international revenue by start year with desired colors (pink and purple)\n",
    "plt.plot(grouped_df.index, grouped_df['domestic_gross'], label='Domestic Revenue', color='skyblue')\n",
    "\n",
    "plt.plot(grouped_df.index, grouped_df['foreign_gross'], label='International Revenue', color='purple')\n",
    "\n",
    "# Add labels to the x and y axes\n",
    "plt.xlabel('Start Year')\n",
    "plt.ylabel('Total Revenue (in millions)')\n",
    "\n",
    "# Add a title to the plot\n",
    "plt.title('Revenue generated both domestically and internationally over the years')\n",
    "\n",
    "# Add a legend to the plot\n",
    "plt.legend()\n",
    "\n",
    "# Show the plot\n",
    "plt.show()"
   ]
  },
  {
   "cell_type": "markdown",
   "metadata": {},
   "source": [
    "# Recommendation:"
   ]
  },
  {
   "cell_type": "markdown",
   "metadata": {},
   "source": [
    "Based on the analysis, I have three key recommendations for the head of Microsoft's movie studio:\n",
    "\n",
    "1..Action and Adventure:\n",
    "While Action movies are a favorable option, it is also essential for Microsoft's studio to explore producing Adventure. These genres have demonstrated a high number of votes, and there is a positive correlation between the number of votes and domestic gross income. By venturing into these genres, Microsoft can tap into potentially lucrative markets and attract a broader audience.\n",
    "\n",
    "2..Comedy:\n",
    "Another viable opportunity for Microsoft's movie studio is comedy movies. Comedy movies are the third most prevalent genre in the dataset, right after Adventure movies. The advantage of comedy movies lies in their relatively lower production costs. Since documentaries do not typically require elaborate sets or fictional narratives, Microsoft can begin its movie production journey with comedy movies, gradually expanding as it gains experience and recognition.\n",
    "\n",
    "3..Drama Movies:\n",
    "Given that Drama movies constitute a significant portion of the dataset and are relatively cost-effective to produce, it would be beneficial for Microsoft's movie studio to focus on producing Drama films. Drama movies have gained popularity among various studios due to their lower production costs compared to genres like Action and Thrillers, which often involve expensive special effects and action sequences.\n",
    "\n",
    "\n",
    "In summary, I recommend Microsoft's movie studio to focus on producing Action films due to their cost-effectiveness, explore Adventure and comedy genres to capitalize on high viewer engagement, and consider producing Drama movies as a starting point for its movie production venture. By combining these strategies, Microsoft can strategically position its studio for success in the dynamic and competitive film industry.\n"
   ]
  },
  {
   "cell_type": "markdown",
   "metadata": {},
   "source": [
    "# Conclusion:"
   ]
  },
  {
   "cell_type": "markdown",
   "metadata": {},
   "source": [
    "In conclusion, this project presents a significant opportunity for Microsoft to venture into the movie production industry and capitalize on the increasing demand for unique video content. Through a thorough analysis of the movie market, Microsoft can gain valuable insights to make well-informed decisions regarding the genres and styles of movies to produce. This strategic approach will pave the way for a successful and prosperous journey for their newly established movie studio."
   ]
  },
  {
   "cell_type": "code",
   "execution_count": null,
   "metadata": {},
   "outputs": [],
   "source": []
  }
 ],
 "metadata": {
  "kernelspec": {
   "display_name": "Python 3",
   "language": "python",
   "name": "python3"
  },
  "language_info": {
   "codemirror_mode": {
    "name": "ipython",
    "version": 3
   },
   "file_extension": ".py",
   "mimetype": "text/x-python",
   "name": "python",
   "nbconvert_exporter": "python",
   "pygments_lexer": "ipython3",
   "version": "3.8.5"
  }
 },
 "nbformat": 4,
 "nbformat_minor": 2
}
